{
 "cells": [
  {
   "cell_type": "code",
   "execution_count": 1,
   "id": "3005aa39",
   "metadata": {},
   "outputs": [],
   "source": [
    "import numpy as np\n",
    "from copy import deepcopy\n",
    "from matplotlib import pyplot as plt\n",
    "from CompilerQC import Graph, Qbits, Polygons, Energy, MC, paths, core\n",
    "import pickle\n",
    "import cProfile\n",
    "import os"
   ]
  },
  {
   "cell_type": "code",
   "execution_count": null,
   "id": "b87f9d24",
   "metadata": {},
   "outputs": [
    {
     "name": "stdout",
     "output_type": "stream",
     "text": [
      "name      succes_rate  N   C   chi_0  delta  repetition_rate  n_total_steps   initial_temperature scaling_plaq3   scaling_plaq4   with_core \n",
      "\n",
      "mc_parameters1  0.92    4    3  0.8      1    6     10000       17       13       13      0 \n",
      "\n",
      "mc_parameters1  0.39    5    6  0.8      1   10      7084       18        9        9      0 \n",
      "\n"
     ]
    },
    {
     "name": "stderr",
     "output_type": "stream",
     "text": [
      "/net/fermion/csba1344/CompilerQC/optimization/search.py:137: RuntimeWarning: divide by zero encountered in double_scalars\n",
      "  acceptance_probability = np.exp(-delta_energy / temperature)\n",
      "/net/fermion/csba1344/CompilerQC/optimization/search.py:137: RuntimeWarning: invalid value encountered in double_scalars\n",
      "  acceptance_probability = np.exp(-delta_energy / temperature)\n"
     ]
    },
    {
     "name": "stdout",
     "output_type": "stream",
     "text": [
      "mc_parameters1  0.06    6   10  0.8      1   15     10000       18       12       12      0 \n",
      "\n",
      "mc_parameters1   0.0    7   15  0.8      1   21     10000       18       16       16      0 \n",
      "\n",
      "mc_parameters1   0.0    8   21  0.8      1   28     10000       18       17       17      0 \n",
      "\n"
     ]
    }
   ],
   "source": [
    "import benchmark_optimization\n",
    "\n",
    "class C: pass\n",
    "\n",
    "args = C()\n",
    "args.batch_size = 100\n",
    "args.id_of_benchmark = 'temperature_C'\n",
    "args.with_core = False\n",
    "args.max_N = 11\n",
    "args.min_N = 4\n",
    "args.extra_id='MLP'\n",
    "benchmark_optimization.benchmark_energy_scaling_by_max_C(args)"
   ]
  },
  {
   "cell_type": "code",
   "execution_count": null,
   "id": "0d3990c5",
   "metadata": {},
   "outputs": [],
   "source": [
    "args = C()\n",
    "args.batchsize, args.id_of_benchmark, args.with_core = 10, 'energyscaling', False\n",
    "args.N = 5\n",
    "benchmark_energy_scaling_by_yaml(args)"
   ]
  },
  {
   "cell_type": "code",
   "execution_count": null,
   "id": "5d1fb321",
   "metadata": {},
   "outputs": [],
   "source": [
    "class C: pass\n",
    "\n",
    "args = C()\n",
    "args.batchsize, args.id_of_benchmark = 10, 'exact_scaling'\n",
    "args.max_C = 30\n",
    "args.min_C = 2\n",
    "args.with_core=False\n",
    "args.problem_folder = 'training_set'\n",
    "benchmark_problem_folder_with_exact_scaling(args)"
   ]
  },
  {
   "cell_type": "code",
   "execution_count": null,
   "id": "da39fac2",
   "metadata": {},
   "outputs": [],
   "source": [
    "from functions_for_benchmarking import update_mc, check_update, evaluate_optimization, run_benchmark, head\n",
    "from CompilerQC import functions_for_database as dataset\n",
    "from tqdm import tqdm\n",
    "from CompilerQC import Graph, Qbits, Polygons, Energy, MC, paths, core\n",
    "import numpy as np\n",
    "import pickle"
   ]
  },
  {
   "cell_type": "code",
   "execution_count": null,
   "id": "68d52d73",
   "metadata": {},
   "outputs": [],
   "source": []
  },
  {
   "cell_type": "code",
   "execution_count": null,
   "id": "574c7625",
   "metadata": {},
   "outputs": [],
   "source": [
    "32/13"
   ]
  },
  {
   "cell_type": "code",
   "execution_count": null,
   "id": "31bc91e6",
   "metadata": {},
   "outputs": [],
   "source": []
  }
 ],
 "metadata": {
  "kernelspec": {
   "display_name": "Python 3 (ipykernel)",
   "language": "python",
   "name": "python3"
  },
  "language_info": {
   "codemirror_mode": {
    "name": "ipython",
    "version": 3
   },
   "file_extension": ".py",
   "mimetype": "text/x-python",
   "name": "python",
   "nbconvert_exporter": "python",
   "pygments_lexer": "ipython3",
   "version": "3.8.12"
  }
 },
 "nbformat": 4,
 "nbformat_minor": 5
}
