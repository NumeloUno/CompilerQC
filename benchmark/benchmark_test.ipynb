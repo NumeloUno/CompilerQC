{
 "cells": [
  {
   "cell_type": "code",
   "execution_count": 1,
   "id": "3005aa39",
   "metadata": {},
   "outputs": [],
   "source": [
    "import numpy as np\n",
    "from copy import deepcopy\n",
    "from matplotlib import pyplot as plt\n",
    "from CompilerQC import Graph, Qbits, Polygons, Energy, MC, paths, core\n",
    "import pickle\n",
    "import cProfile"
   ]
  },
  {
   "cell_type": "code",
   "execution_count": 2,
   "id": "814cb687",
   "metadata": {},
   "outputs": [
    {
     "data": {
      "text/plain": [
       "36"
      ]
     },
     "execution_count": 2,
     "metadata": {},
     "output_type": "execute_result"
    }
   ],
   "source": [
    "Graph.complete(10).C"
   ]
  },
  {
   "cell_type": "code",
   "execution_count": 3,
   "id": "3e6aeae9",
   "metadata": {},
   "outputs": [],
   "source": [
    "from benchmark_optimization import (\n",
    "    benchmark_problem_folder_with_exact_scaling,\n",
    "    benchmark_energy_scaling_by_yaml,\n",
    "    benchmark_MLP_energy_scaling,\n",
    "    benchmark_energy_scaling_by_max_C,\n",
    ")"
   ]
  },
  {
   "cell_type": "code",
   "execution_count": 5,
   "id": "b87f9d24",
   "metadata": {},
   "outputs": [],
   "source": [
    "class C: pass\n",
    "args = C()\n",
    "args.batchsize, args.id_of_benchmark, args.with_core = 10, 'maxCpolynom', True\n",
    "args.N = 5\n",
    "#benchmark_energy_scaling_by_max_C(args)"
   ]
  },
  {
   "cell_type": "code",
   "execution_count": 8,
   "id": "0d3990c5",
   "metadata": {},
   "outputs": [
    {
     "name": "stdout",
     "output_type": "stream",
     "text": [
      "name      succes_rate  N   C   chi_0  delta  repetition_rate  n_total_steps   initial_temperature scaling_plaq3   scaling_plaq4  \n",
      "\n",
      "mc_parameters1  0.3  4    3    0.8  0.05   6    3000            18        0        0\n",
      "\n",
      "mc_parameters2  0.8  4    3    0.8  0.05   6    6               18       10       10\n",
      "\n",
      "mc_parameters3  0.7  4    3    0.8  0.05   6    117             18      100      100\n",
      "\n",
      "mc_parameters4  0.8  4    3    0.8  0.05   6    3000            18     1000     1000\n",
      "\n",
      "mc_parameters5  0.9  4    3    0.8  0.05   6    41              18      100      300\n",
      "\n",
      "mc_parameters6  0.8  4    3    0.8  0.05   6    2               18      200      900\n",
      "\n",
      "mc_parameters7  0.9  4    3    0.8  0.05   6    3000            18      800     1700\n",
      "\n",
      "mc_parameters8  0.8  4    3    0.8  0.05   6    8               18     1000     3000\n",
      "\n",
      "mc_parameters9  0.7  4    3    0.8  0.05   6    3000            18     3000    12000\n",
      "\n",
      "mc_parameters10 0.7  4    3    0.8  0.05   6    34              18     2000     4000\n",
      "\n",
      "mc_parameters1  0.0  5    6    0.8  0.05   10   3000            18        0        0\n",
      "\n",
      "mc_parameters2  0.4  5    6    0.8  0.05   10   3000            18       10       10\n",
      "\n",
      "mc_parameters3  0.2  5    6    0.8  0.05   10   748             18      100      100\n",
      "\n",
      "mc_parameters4  0.5  5    6    0.8  0.05   10   484             18     1000     1000\n",
      "\n",
      "mc_parameters5  0.8  5    6    0.8  0.05   10   3000            18      100      300\n",
      "\n",
      "mc_parameters6  0.5  5    6    0.8  0.05   10   415             18      200      900\n",
      "\n",
      "mc_parameters7  0.4  5    6    0.8  0.05   10   3000            18      800     1700\n",
      "\n",
      "mc_parameters8  0.3  5    6    0.8  0.05   10   3000            18     1000     3000\n",
      "\n",
      "mc_parameters9  0.3  5    6    0.8  0.05   10   3000            18     3000    12000\n",
      "\n",
      "mc_parameters10 0.6  5    6    0.8  0.05   10   3000            18     2000     4000\n",
      "\n"
     ]
    }
   ],
   "source": [
    "args = C()\n",
    "args.batchsize, args.id_of_benchmark, args.with_core = 10, 'energyscaling', False\n",
    "args.N = 5\n",
    "benchmark_energy_scaling_by_yaml(args)"
   ]
  },
  {
   "cell_type": "code",
   "execution_count": null,
   "id": "5d1fb321",
   "metadata": {},
   "outputs": [],
   "source": [
    "args = C()\n",
    "args.batchsize, args.id_of_benchmark, args.with_core = 10, 'MLP', True\n",
    "args.N = 5\n",
    "benchmark_MLP_energy_scaling(args)"
   ]
  }
 ],
 "metadata": {
  "kernelspec": {
   "display_name": "Python 3 (ipykernel)",
   "language": "python",
   "name": "python3"
  },
  "language_info": {
   "codemirror_mode": {
    "name": "ipython",
    "version": 3
   },
   "file_extension": ".py",
   "mimetype": "text/x-python",
   "name": "python",
   "nbconvert_exporter": "python",
   "pygments_lexer": "ipython3",
   "version": "3.8.10"
  }
 },
 "nbformat": 4,
 "nbformat_minor": 5
}
