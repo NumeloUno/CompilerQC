{
 "cells": [
  {
   "cell_type": "markdown",
   "id": "7154e601",
   "metadata": {},
   "source": [
    "Estimate initial temperature (theory and notation is from https://link.springer.com/article/10.1023/B:COAP.0000044187.23143.bd)"
   ]
  },
  {
   "cell_type": "code",
   "execution_count": 1,
   "id": "6e8f942f",
   "metadata": {},
   "outputs": [],
   "source": [
    "import numpy as np\n",
    "from copy import deepcopy\n",
    "from matplotlib import pyplot as plt\n",
    "from CompilerQC import Graph, Qbits, Polygons, Energy, MC, paths"
   ]
  },
  {
   "cell_type": "code",
   "execution_count": 2,
   "id": "88311c59",
   "metadata": {},
   "outputs": [
    {
     "data": {
      "text/plain": [
       "<matplotlib.legend.Legend at 0x7feaa41ec6d0>"
      ]
     },
     "execution_count": 2,
     "metadata": {},
     "output_type": "execute_result"
    },
    {
     "data": {
      "image/png": "[encoded data removed]",
      "text/plain": [
       "<Figure size 432x288 with 1 Axes>"
      ]
     },
     "metadata": {
      "needs_background": "light"
     },
     "output_type": "display_data"
    }
   ],
   "source": [
    "def visualize_delta(delta):\n",
    "    \"\"\"visualize the effect of delta in the temperature schedule\"\"\"\n",
    "    t, temperature = 1, [1]\n",
    "    for i in range(100):\n",
    "        t = t / (1 + t * np.log(1 + delta))\n",
    "        temperature.append(t)\n",
    "    return temperature\n",
    "for delta in [0.01, 0.1, 10]:\n",
    "    plt.plot(visualize_delta(delta), label=str(delta))\n",
    "plt.ylabel('temperature')\n",
    "plt.xlabel('step')\n",
    "plt.title('Effect of delta')\n",
    "plt.legend()"
   ]
  },
  {
   "cell_type": "code",
   "execution_count": 18,
   "id": "4c0da918",
   "metadata": {},
   "outputs": [
    {
     "name": "stdout",
     "output_type": "stream",
     "text": [
      "6680.805047262199\n"
     ]
    }
   ],
   "source": [
    "N = 8\n",
    "graph = Graph.complete(N)\n",
    "qbits = Qbits.init_qbits_from_dict(graph,dict())\n",
    "polygon_object = Polygons(qbits)\n",
    "energy = Energy(polygon_object, scaling_for_plaq3=10, scaling_for_plaq4=14)\n",
    "mc = MC(energy, delta=0.07, chi_0=0.99, repetition_rate=35, recording=True)\n",
    "mc.current_temperature = mc.initial_temperature()\n",
    "print(mc.current_temperature)\n",
    "mc.record_temperature.append(mc.current_temperature)"
   ]
  },
  {
   "cell_type": "code",
   "execution_count": 19,
   "id": "bdb30089",
   "metadata": {},
   "outputs": [
    {
     "name": "stdout",
     "output_type": "stream",
     "text": [
      "0\n"
     ]
    }
   ],
   "source": [
    "print(mc.n_total_steps)"
   ]
  },
  {
   "cell_type": "code",
   "execution_count": 22,
   "id": "2f592e2d",
   "metadata": {},
   "outputs": [
    {
     "name": "stdout",
     "output_type": "stream",
     "text": [
      "CPU times: user 4.15 s, sys: 3.51 ms, total: 4.15 s\n",
      "Wall time: 4.15 s\n"
     ]
    },
    {
     "data": {
      "text/plain": [
       "65.77907999999996"
      ]
     },
     "execution_count": 22,
     "metadata": {},
     "output_type": "execute_result"
    }
   ],
   "source": [
    "%%time\n",
    "mc.apply('', 10000)"
   ]
  },
  {
   "cell_type": "code",
   "execution_count": 21,
   "id": "b3b3b3e6",
   "metadata": {},
   "outputs": [
    {
     "name": "stdout",
     "output_type": "stream",
     "text": [
      "20000\n",
      "CPU times: user 4.44 s, sys: 0 ns, total: 4.44 s\n",
      "Wall time: 4.44 s\n"
     ]
    }
   ],
   "source": [
    "%%time\n",
    "for i in range(10000):\n",
    "    mc.apply('',1)\n",
    "print(mc.n_total_steps)"
   ]
  },
  {
   "cell_type": "code",
   "execution_count": null,
   "id": "350854a0",
   "metadata": {},
   "outputs": [],
   "source": [
    "mc.energy.scaling_for_plaq3"
   ]
  },
  {
   "cell_type": "code",
   "execution_count": null,
   "id": "07300205",
   "metadata": {},
   "outputs": [],
   "source": [
    "plt.plot(mc.record_temperature, label='temperature')\n",
    "plt.plot(mc.record_mean_energy, label='mean energy')\n",
    "plt.plot(mc.record_total_energy, label='current energy')\n",
    "plt.xlabel('step')\n",
    "plt.ylabel('energy and temperature')\n",
    "plt.legend()"
   ]
  },
  {
   "cell_type": "code",
   "execution_count": null,
   "id": "42109072",
   "metadata": {},
   "outputs": [],
   "source": [
    "plt.plot([mc.record_acc_probability[i-1] for i in mc.record_bad_moves])\n",
    "plt.title('acceptance probability of bad moves')"
   ]
  },
  {
   "cell_type": "code",
   "execution_count": null,
   "id": "ae452f7d",
   "metadata": {},
   "outputs": [],
   "source": [
    "plt.plot([mc.record_acc_probability[i-1] for i in mc.record_good_moves])\n",
    "plt.title('acceptance probability of good moves')"
   ]
  },
  {
   "cell_type": "code",
   "execution_count": null,
   "id": "88acdeea",
   "metadata": {},
   "outputs": [],
   "source": [
    "plt.plot([mc.record_acc_probability[i-1] for i in mc.record_rejected_moves])\n",
    "plt.title('acceptance probability of rejected moves')"
   ]
  },
  {
   "cell_type": "code",
   "execution_count": null,
   "id": "0a9cd069",
   "metadata": {},
   "outputs": [],
   "source": [
    "plt.plot([len([i for i in sorted(mc.record_good_moves + mc.record_bad_moves) if i in range(k * mc.repetition_rate, (k+1) * mc.repetition_rate)]) / mc.repetition_rate\n",
    "for k in range(len(mc.record_temperature) // mc.repetition_rate)])\n",
    "plt.ylabel('accepted/proposed moves')\n",
    "plt.xlabel('temperature')"
   ]
  },
  {
   "cell_type": "code",
   "execution_count": null,
   "id": "51b0404b",
   "metadata": {},
   "outputs": [],
   "source": [
    "mc.energy.polygon_object.visualize(), mc.energy.polygon_object.number_of_plaqs, graph.C"
   ]
  },
  {
   "cell_type": "code",
   "execution_count": null,
   "id": "eeb21f11",
   "metadata": {},
   "outputs": [],
   "source": []
  },
  {
   "cell_type": "code",
   "execution_count": null,
   "id": "42c56e21",
   "metadata": {},
   "outputs": [],
   "source": []
  }
 ],
 "metadata": {
  "kernelspec": {
   "display_name": "Python 3 (ipykernel)",
   "language": "python",
   "name": "python3"
  },
  "language_info": {
   "codemirror_mode": {
    "name": "ipython",
    "version": 3
   },
   "file_extension": ".py",
   "mimetype": "text/x-python",
   "name": "python",
   "nbconvert_exporter": "python",
   "pygments_lexer": "ipython3",
   "version": "3.8.10"
  }
 },
 "nbformat": 4,
 "nbformat_minor": 5
}
