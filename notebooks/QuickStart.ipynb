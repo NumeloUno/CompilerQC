{
 "cells": [
  {
   "cell_type": "code",
   "execution_count": null,
   "id": "49bdde09",
   "metadata": {},
   "outputs": [],
   "source": [
    "import numpy as np\n",
    "import random\n",
    "from CompilerQC import Graph\n",
    "from CompilerQC import core \n",
    "import  matplotlib.pyplot as plt\n",
    "from shapely.geometry import Polygon, MultiPoint\n",
    "from CompilerQC import Polygons\n",
    "from CompilerQC import Energy\n",
    "from CompilerQC import MC\n",
    "from scipy.special import binom \n",
    "import networkx as nx"
   ]
  },
  {
   "cell_type": "code",
   "execution_count": null,
   "id": "ccf964ca",
   "metadata": {},
   "outputs": [],
   "source": [
    "N = 7\n",
    "graph = Graph.fully(N)\n",
    "#nx.draw(graph.to_nx_graph(), with_labels=True, node_size=12)"
   ]
  },
  {
   "cell_type": "code",
   "execution_count": null,
   "id": "a42de9e1",
   "metadata": {},
   "outputs": [],
   "source": [
    "nn = core.largest_complete_bipartite_graph(graph)\n",
    "K_nn = core.complete_bipartite_graph(*nn)\n",
    "U, V = core.parts_of_complete_bipartite_graph(graph.to_nx_graph(), K_nn)\n",
    "core_qbits, core_coords = core.qbits_and_coords_of_core(U, V)"
   ]
  },
  {
   "cell_type": "code",
   "execution_count": null,
   "id": "f4a573d2",
   "metadata": {},
   "outputs": [],
   "source": [
    "# from networkx.algorithms import bipartite\n",
    "# def complete_bipartite_from_sets(U, V):\n",
    "#     complete_bipartite = nx.complete_bipartite_graph(len(U), len(V))\n",
    "#     u, v = bipartite.sets(complete_bipartite)\n",
    "#     mapping = {**(dict(zip(u, U))), **(dict(zip(v, V)))}\n",
    "#     return nx.relabel_nodes(complete_bipartite, mapping)\n",
    "# def sort_s2_as_s1(s1, s2):\n",
    "#     order = {v:i for i, v in enumerate(s1)}\n",
    "#     return sorted(s2, key=lambda v: len(s1) if v not in order.keys() else order[v])\n",
    "# def order_as_former_bipartite(UV1, UV2):\n",
    "#     U = sort_s2_as_s1(UV1[0], UV2[0])\n",
    "#     V = sort_s2_as_s1(UV1[1], UV2[1])\n",
    "#     return U, V"
   ]
  },
  {
   "cell_type": "code",
   "execution_count": null,
   "id": "f47d5bf0",
   "metadata": {},
   "outputs": [],
   "source": [
    "# list_of_UV = []\n",
    "# for i in range(N-3):\n",
    "#     S = core.complete_bipartite_graph((N-2) - i, 2 + i)\n",
    "#     print(((N-2) - i, 2 + i))\n",
    "#     if core.subgraph_is_monomorphic(graph.to_nx_graph(), S):\n",
    "#         UV = core.parts_of_complete_bipartite_graph(graph.to_nx_graph(), S)\n",
    "#         list_of_UV.append(UV)\n",
    "# for i in range(1, len(list_of_UV)):\n",
    "#     list_of_UV[i] = order_as_former_bipartite(\n",
    "#     list_of_UV[i-1], list_of_UV[i])\n",
    "    \n",
    "# large_core = dict()\n",
    "# for uv in list_of_UV:\n",
    "#     qbit_coord_dict = dict(\n",
    "#     zip(*(core.qbits_and_coords_of_core(*uv))))\n",
    "#     large_core.update(qbit_coord_dict)\n",
    "    \n",
    "# core_qbits, core_coords = large_core.keys(), large_core.values()\n"
   ]
  },
  {
   "cell_type": "code",
   "execution_count": null,
   "id": "c9781b81",
   "metadata": {},
   "outputs": [],
   "source": [
    "polygon_object = Polygons(graph, core_qbits)\n",
    "polygon_object.update_qbits_coords(core_qbits, core_coords)\n",
    "mc = MC(polygon_object, temperature=1)"
   ]
  },
  {
   "cell_type": "code",
   "execution_count": null,
   "id": "37900465",
   "metadata": {},
   "outputs": [],
   "source": [
    "energy = []\n",
    "delta = []\n",
    "temperatures = []"
   ]
  },
  {
   "cell_type": "code",
   "execution_count": null,
   "id": "e5712cb7",
   "metadata": {},
   "outputs": [],
   "source": [
    "%%time\n",
    "for i in range(2000):\n",
    "    delta_energy = mc.apply('grow_core', 10)"
   ]
  },
  {
   "cell_type": "code",
   "execution_count": null,
   "id": "85daa257",
   "metadata": {},
   "outputs": [],
   "source": [
    "# probabilities = np.exp(- delta_energy / temperatures)\n",
    "# probabilities[probabilities >=1] = 1\n",
    "# plt.plot(energy, label='energy')\n",
    "# plt.plot(delta, label='delta_energy')\n",
    "# plt.plot(temperatures, label='temp')\n",
    "# plt.legend()\n",
    "# plt.show()\n",
    "# plt.plot(probabilities, label='acceptance probability')\n",
    "# plt.legend()\n"
   ]
  },
  {
   "cell_type": "code",
   "execution_count": null,
   "id": "27ecd351",
   "metadata": {
    "scrolled": false
   },
   "outputs": [],
   "source": [
    "#mc.polygon.move_center_to_middle()\n",
    "fig,ax=plt.subplots(ncols=1, figsize=(5,5))\n",
    "for coord in mc.free_neighbour_coords(core_coords):\n",
    "    ax.annotate('.',coord)\n",
    "    ax.scatter(*coord, color='green')\n",
    "mc.polygon.visualize(ax, mc.polygon.get_all_polygon_coords(), zoom=1)\n",
    "fit = Energy(mc.polygon)\n",
    "\n",
    "ax.set_title(str(fit(mc.polygon)))\n",
    "plt.show()\n",
    "print(graph.num_constrains())"
   ]
  },
  {
   "cell_type": "code",
   "execution_count": null,
   "id": "8fd7d608",
   "metadata": {},
   "outputs": [],
   "source": [
    "for N in range(4, 10):\n",
    "    graph = Graph.fully(N)\n",
    "\n",
    "    polygon_object = Polygons(graph)\n",
    "    fig,ax=plt.subplots(ncols=1, figsize=(11,11))\n",
    "    lhz_coords = qbits = polygon_object.qbits \n",
    "    polygon_object.update_qbits_coords(qbits, lhz_coords)\n",
    "    polygon_object.visualize(ax, polygon_object.get_all_polygon_coords())\n",
    "    \n",
    "    plt.title(str(Energy(polygon_object)(polygon_object)))"
   ]
  },
  {
   "cell_type": "code",
   "execution_count": null,
   "id": "319ba667",
   "metadata": {},
   "outputs": [],
   "source": []
  }
 ],
 "metadata": {
  "kernelspec": {
   "display_name": "Python 3 (ipykernel)",
   "language": "python",
   "name": "python3"
  },
  "language_info": {
   "codemirror_mode": {
    "name": "ipython",
    "version": 3
   },
   "file_extension": ".py",
   "mimetype": "text/x-python",
   "name": "python",
   "nbconvert_exporter": "python",
   "pygments_lexer": "ipython3",
   "version": "3.8.10"
  }
 },
 "nbformat": 4,
 "nbformat_minor": 5
}
