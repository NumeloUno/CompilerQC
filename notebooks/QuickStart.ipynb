{
 "cells": [
  {
   "cell_type": "code",
   "execution_count": 23,
   "id": "49bdde09",
   "metadata": {},
   "outputs": [],
   "source": [
    "import numpy as np\n",
    "import random\n",
    "from CompilerQC import Graph\n",
    "from CompilerQC import core\n",
    "import matplotlib.pyplot as plt\n",
    "from shapely.geometry import Polygon, MultiPoint\n",
    "from CompilerQC import Polygons\n",
    "from CompilerQC import Energy\n",
    "from CompilerQC import MC\n",
    "from scipy.special import binom\n",
    "import networkx as nx"
   ]
  },
  {
   "cell_type": "code",
   "execution_count": 24,
   "id": "ccf964ca",
   "metadata": {},
   "outputs": [],
   "source": [
    "N = 5\n",
    "graph = Graph.complete(N)"
   ]
  },
  {
   "cell_type": "code",
   "execution_count": 25,
   "id": "a42de9e1",
   "metadata": {},
   "outputs": [],
   "source": [
    "nn = core.largest_complete_bipartite_graph(graph)\n",
    "K_nn = core.complete_bipartite_graph(*nn)\n",
    "U, V = core.parts_of_complete_bipartite_graph(graph.to_nx_graph(), K_nn)\n",
    "core_qbits, core_coords = core.qbits_and_coords_of_core(U, V)"
   ]
  },
  {
   "cell_type": "code",
   "execution_count": 26,
   "id": "c9781b81",
   "metadata": {},
   "outputs": [],
   "source": [
    "polygon_object = Polygons(graph, core_bipartite_sets=[U, V])\n",
    "energy_object = Energy(polygon_object)\n",
    "mc = MC(energy_object, temperatur_schedule=' 3 / np.log(x)')\n",
    "mc.n_total_steps = 3"
   ]
  },
  {
   "cell_type": "code",
   "execution_count": 27,
   "id": "27a05fe2",
   "metadata": {},
   "outputs": [],
   "source": [
    "steps = []\n",
    "moves_per_step = []\n",
    "temp = []\n",
    "found_plaqs = []\n",
    "for i in range(100):\n",
    "    steps.append(mc.n_total_steps)\n",
    "    delta_x = mc.apply_from_sampling('cauchy')\n",
    "    moves_per_step.append(delta_x)\n",
    "    temp.append(mc.temperature())\n",
    "    found_plaqs.append(mc.polygon.n_found_plaqs())"
   ]
  },
  {
   "cell_type": "code",
   "execution_count": 29,
   "id": "b7047fd9",
   "metadata": {},
   "outputs": [
    {
     "data": {
      "text/plain": [
       "<matplotlib.legend.Legend at 0x7f2a77750370>"
      ]
     },
     "execution_count": 29,
     "metadata": {},
     "output_type": "execute_result"
    },
    {
     "data": {
      "image/png": "[encoded data removed]",
      "text/plain": [
       "<Figure size 432x288 with 1 Axes>"
      ]
     },
     "metadata": {
      "needs_background": "light"
     },
     "output_type": "display_data"
    }
   ],
   "source": [
    "plt.plot(steps, temp, label='temperature')\n",
    "plt.plot(steps, moves_per_step, label='moves per step')\n",
    "plt.plot(steps, found_plaqs, label='found plaqs')\n",
    "\n",
    "plt.legend()\n"
   ]
  },
  {
   "cell_type": "code",
   "execution_count": 21,
   "id": "69cc8eaf",
   "metadata": {},
   "outputs": [
    {
     "data": {
      "text/plain": [
       "3"
      ]
     },
     "execution_count": 21,
     "metadata": {},
     "output_type": "execute_result"
    }
   ],
   "source": [
    "mc.polygon.n_found_plaqs()"
   ]
  },
  {
   "cell_type": "code",
   "execution_count": null,
   "id": "74eceeee",
   "metadata": {},
   "outputs": [],
   "source": [
    "plt.plot(steps, temp, label='temperature')\n",
    "print(mc.n_total_steps, 300 / np.log(mc.n_total_steps))\n",
    "mc.temperature()"
   ]
  },
  {
   "cell_type": "code",
   "execution_count": null,
   "id": "fc173cf6",
   "metadata": {},
   "outputs": [],
   "source": [
    "1 / np.log(4)"
   ]
  },
  {
   "cell_type": "code",
   "execution_count": null,
   "id": "e5712cb7",
   "metadata": {},
   "outputs": [],
   "source": [
    "# mc = MC(polygon_object, temperature=1, UV = [U, V])\n",
    "# mc.terms = [1,0,1]\n",
    "for i in range(1000):\n",
    "    # mc.update_temperature(10)\n",
    "    #mc.apply(\"contract\", 10)\n",
    "    mc.apply_from_sampling()\n",
    "    # mc.apply('swap_lines_in_core', 0)\n",
    "    # mc.apply('grow_core', 1)\n",
    "\n",
    "# success = mc.energy.distance_to_plaquette() - polygon_object.C"
   ]
  }
 ],
 "metadata": {
  "kernelspec": {
   "display_name": "Python 3 (ipykernel)",
   "language": "python",
   "name": "python3"
  },
  "language_info": {
   "codemirror_mode": {
    "name": "ipython",
    "version": 3
   },
   "file_extension": ".py",
   "mimetype": "text/x-python",
   "name": "python",
   "nbconvert_exporter": "python",
   "pygments_lexer": "ipython3",
   "version": "3.8.10"
  }
 },
 "nbformat": 4,
 "nbformat_minor": 5
}
