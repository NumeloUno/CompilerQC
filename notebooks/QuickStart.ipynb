{
 "cells": [
  {
   "cell_type": "code",
   "execution_count": 1,
   "id": "49bdde09",
   "metadata": {},
   "outputs": [],
   "source": [
    "import numpy as np\n",
    "import random\n",
    "from CompilerQC import Graph\n",
    "from CompilerQC import core\n",
    "import matplotlib.pyplot as plt\n",
    "from shapely.geometry import Polygon, MultiPoint\n",
    "from CompilerQC import Polygons\n",
    "from CompilerQC import Energy\n",
    "from CompilerQC import MC\n",
    "from scipy.special import binom\n",
    "import networkx as nx"
   ]
  },
  {
   "cell_type": "code",
   "execution_count": 25,
   "id": "a0b065ba",
   "metadata": {},
   "outputs": [
    {
     "data": {
      "text/plain": [
       "array([[10,  9, 10, ...,  9, 12, 10],\n",
       "       [10, 10,  8, ..., 10, 10, 11],\n",
       "       [ 3,  3,  2, ...,  3,  3,  4],\n",
       "       ...,\n",
       "       [14, 13, 14, ..., 15, 12, 13],\n",
       "       [ 4,  2,  3, ...,  2,  4,  4],\n",
       "       [ 3,  4,  3, ...,  4,  3,  5]])"
      ]
     },
     "execution_count": 25,
     "metadata": {},
     "output_type": "execute_result"
    }
   ],
   "source": [
    "np.load(\"1success_rates_for_7.npy\")"
   ]
  },
  {
   "cell_type": "code",
   "execution_count": 2,
   "id": "ccf964ca",
   "metadata": {},
   "outputs": [],
   "source": [
    "N = 5\n",
    "graph = Graph.complete(N)"
   ]
  },
  {
   "cell_type": "code",
   "execution_count": 3,
   "id": "a42de9e1",
   "metadata": {},
   "outputs": [],
   "source": [
    "nn = core.largest_complete_bipartite_graph(graph)\n",
    "K_nn = core.complete_bipartite_graph(*nn)\n",
    "U, V = core.parts_of_complete_bipartite_graph(graph.to_nx_graph(), K_nn)\n",
    "core_qbits, core_coords = core.qbits_and_coords_of_core(U, V)"
   ]
  },
  {
   "cell_type": "code",
   "execution_count": 4,
   "id": "f4a573d2",
   "metadata": {},
   "outputs": [],
   "source": [
    "from networkx.algorithms import bipartite\n",
    "\n",
    "\n",
    "def complete_bipartite_from_sets(U, V):\n",
    "    complete_bipartite = nx.complete_bipartite_graph(len(U), len(V))\n",
    "    u, v = bipartite.sets(complete_bipartite)\n",
    "    mapping = {**(dict(zip(u, U))), **(dict(zip(v, V)))}\n",
    "    return nx.relabel_nodes(complete_bipartite, mapping)\n",
    "\n",
    "\n",
    "def sort_s2_as_s1(s1, s2):\n",
    "    order = {v: i for i, v in enumerate(s1)}\n",
    "    return sorted(s2, key=lambda v: len(s1) if v not in order.keys() else order[v])\n",
    "\n",
    "\n",
    "def order_as_former_bipartite(UV1, UV2):\n",
    "    U = sort_s2_as_s1(UV1[0], UV2[0])\n",
    "    V = sort_s2_as_s1(UV1[1], UV2[1])\n",
    "    return U, V"
   ]
  },
  {
   "cell_type": "code",
   "execution_count": 5,
   "id": "f47d5bf0",
   "metadata": {},
   "outputs": [
    {
     "name": "stdout",
     "output_type": "stream",
     "text": [
      "(3, 2)\n",
      "(2, 3)\n"
     ]
    }
   ],
   "source": [
    "list_of_UV = []\n",
    "for i in range(N - 3):\n",
    "    S = core.complete_bipartite_graph((N - 2) - i, 2 + i)\n",
    "    print(((N - 2) - i, 2 + i))\n",
    "    if core.subgraph_is_monomorphic(graph.to_nx_graph(), S):\n",
    "        UV = core.parts_of_complete_bipartite_graph(graph.to_nx_graph(), S)\n",
    "        list_of_UV.append(UV)\n",
    "for i in range(1, len(list_of_UV)):\n",
    "    list_of_UV[i] = order_as_former_bipartite(list_of_UV[i - 1], list_of_UV[i])\n",
    "\n",
    "large_core = dict()\n",
    "for uv in list_of_UV:\n",
    "    qbit_coord_dict = dict(zip(*(core.qbits_and_coords_of_core(*uv))))\n",
    "    large_core.update(qbit_coord_dict)\n",
    "\n",
    "core_qbits, core_coords = large_core.keys(), large_core.values()"
   ]
  },
  {
   "cell_type": "code",
   "execution_count": 33,
   "id": "c9781b81",
   "metadata": {},
   "outputs": [],
   "source": [
    "polygon_object = Polygons(graph, core_bipartite_sets=[U, V])\n",
    "mc = MC(polygon_object, temperature=1)"
   ]
  },
  {
   "cell_type": "code",
   "execution_count": 40,
   "id": "e5712cb7",
   "metadata": {},
   "outputs": [],
   "source": [
    "# mc = MC(polygon_object, temperature=1, UV = [U, V])\n",
    "# mc.terms = [1,0,1]\n",
    "mc.update_temperature()\n",
    "for i in range(100):\n",
    "    # mc.update_temperature(10)\n",
    "    mc.apply(\"contract\", 10)\n",
    "    # mc.apply('swap_lines_in_core', 0)\n",
    "    # mc.apply('grow_core', 1)\n",
    "\n",
    "# success = mc.energy.distance_to_plaquette() - polygon_object.C"
   ]
  },
  {
   "cell_type": "code",
   "execution_count": 41,
   "id": "85daa257",
   "metadata": {},
   "outputs": [],
   "source": [
    "# probabilities = np.exp(- delta_energy / temperatures)\n",
    "# probabilities[probabilities >=1] = 1\n",
    "# plt.plot(energy, label='energy')\n",
    "# plt.plot(delta, label='delta_energy')\n",
    "# plt.plot(temperatures, label='temp')\n",
    "# plt.legend()\n",
    "# plt.show()\n",
    "# plt.plot(probabilities, label='acceptance probability')\n",
    "# plt.legend()"
   ]
  },
  {
   "cell_type": "code",
   "execution_count": 42,
   "id": "27ecd351",
   "metadata": {
    "scrolled": true
   },
   "outputs": [
    {
     "data": {
      "image/png": "[encoded data removed]",
      "text/plain": [
       "<Figure size 360x360 with 1 Axes>"
      ]
     },
     "metadata": {
      "needs_background": "light"
     },
     "output_type": "display_data"
    },
    {
     "name": "stdout",
     "output_type": "stream",
     "text": [
      "6\n"
     ]
    }
   ],
   "source": [
    "# mc.polygon.move_center_to_middle()\n",
    "fig, ax = plt.subplots(ncols=1, figsize=(5, 5))\n",
    "# mc.apply('grow_core', 100)\n",
    "for coord in mc.free_neighbour_coords(mc.polygon.core_coords):\n",
    "    ax.annotate(\".\", coord)\n",
    "    ax.scatter(*coord, color=\"green\")\n",
    "mc.polygon.visualize(ax, mc.polygon.get_all_polygon_coords(), zoom=1)\n",
    "fit = Energy(mc.polygon)\n",
    "\n",
    "ax.set_title(str(fit(mc.polygon)))\n",
    "plt.show()\n",
    "print(graph.num_constrains())"
   ]
  },
  {
   "cell_type": "code",
   "execution_count": 10,
   "id": "8fd7d608",
   "metadata": {},
   "outputs": [
    {
     "ename": "AttributeError",
     "evalue": "type object 'Graph' has no attribute 'fully'",
     "output_type": "error",
     "traceback": [
      "\u001b[0;31m---------------------------------------------------------------------------\u001b[0m",
      "\u001b[0;31mAttributeError\u001b[0m                            Traceback (most recent call last)",
      "\u001b[0;32m/tmp/ipykernel_93557/1451959827.py\u001b[0m in \u001b[0;36m<module>\u001b[0;34m\u001b[0m\n\u001b[1;32m      1\u001b[0m \u001b[0;32mfor\u001b[0m \u001b[0mN\u001b[0m \u001b[0;32min\u001b[0m \u001b[0mrange\u001b[0m\u001b[0;34m(\u001b[0m\u001b[0;36m4\u001b[0m\u001b[0;34m,\u001b[0m \u001b[0;36m10\u001b[0m\u001b[0;34m)\u001b[0m\u001b[0;34m:\u001b[0m\u001b[0;34m\u001b[0m\u001b[0;34m\u001b[0m\u001b[0m\n\u001b[0;32m----> 2\u001b[0;31m     \u001b[0mgraph\u001b[0m \u001b[0;34m=\u001b[0m \u001b[0mGraph\u001b[0m\u001b[0;34m.\u001b[0m\u001b[0mfully\u001b[0m\u001b[0;34m(\u001b[0m\u001b[0mN\u001b[0m\u001b[0;34m)\u001b[0m\u001b[0;34m\u001b[0m\u001b[0;34m\u001b[0m\u001b[0m\n\u001b[0m\u001b[1;32m      3\u001b[0m \u001b[0;34m\u001b[0m\u001b[0m\n\u001b[1;32m      4\u001b[0m     \u001b[0mpolygon_object\u001b[0m \u001b[0;34m=\u001b[0m \u001b[0mPolygons\u001b[0m\u001b[0;34m(\u001b[0m\u001b[0mgraph\u001b[0m\u001b[0;34m)\u001b[0m\u001b[0;34m\u001b[0m\u001b[0;34m\u001b[0m\u001b[0m\n\u001b[1;32m      5\u001b[0m     \u001b[0mfig\u001b[0m\u001b[0;34m,\u001b[0m \u001b[0max\u001b[0m \u001b[0;34m=\u001b[0m \u001b[0mplt\u001b[0m\u001b[0;34m.\u001b[0m\u001b[0msubplots\u001b[0m\u001b[0;34m(\u001b[0m\u001b[0mncols\u001b[0m\u001b[0;34m=\u001b[0m\u001b[0;36m1\u001b[0m\u001b[0;34m,\u001b[0m \u001b[0mfigsize\u001b[0m\u001b[0;34m=\u001b[0m\u001b[0;34m(\u001b[0m\u001b[0;36m11\u001b[0m\u001b[0;34m,\u001b[0m \u001b[0;36m11\u001b[0m\u001b[0;34m)\u001b[0m\u001b[0;34m)\u001b[0m\u001b[0;34m\u001b[0m\u001b[0;34m\u001b[0m\u001b[0m\n",
      "\u001b[0;31mAttributeError\u001b[0m: type object 'Graph' has no attribute 'fully'"
     ]
    }
   ],
   "source": [
    "for N in range(4, 10):\n",
    "    graph = Graph.fully(N)\n",
    "\n",
    "    polygon_object = Polygons(graph)\n",
    "    fig, ax = plt.subplots(ncols=1, figsize=(11, 11))\n",
    "    lhz_coords = qbits = polygon_object.qbits\n",
    "    polygon_object.update_qbits_coords(qbits, lhz_coords)\n",
    "    polygon_object.visualize(ax, polygon_object.get_all_polygon_coords())\n",
    "\n",
    "    plt.title(str(Energy(polygon_object)(polygon_object, terms=[0, 1, 0])))"
   ]
  },
  {
   "cell_type": "code",
   "execution_count": null,
   "id": "be365132",
   "metadata": {},
   "outputs": [],
   "source": [
    "import argparse\n",
    "\n",
    "parser = argparse.ArgumentParser()  # description='Process some integers.')\n",
    "# parser.add_argument('integers', metavar='N', type=int, nargs='+',\n",
    "#                     help='an integer for the accumulator')\n",
    "# parser.add_argument('--sum', dest='accumulate', action='store_const',\n",
    "#                     const=sum, default=max,\n",
    "#                     help='sum the integers (default: find the max)')\n",
    "# args = parser.parse_args(['--sum', '7', '-1', '42'])\n",
    "\n",
    "# args = parser.parse_args()\n",
    "# print(args.accumulate(args.integers))"
   ]
  },
  {
   "cell_type": "code",
   "execution_count": null,
   "id": "657f9f30",
   "metadata": {},
   "outputs": [],
   "source": [
    "parser.add_argument(\"--kerem-e\")\n",
    "parser.add_argument(\"-f\")"
   ]
  },
  {
   "cell_type": "code",
   "execution_count": null,
   "id": "4186fa48",
   "metadata": {},
   "outputs": [],
   "source": [
    "opts = parser.parse_args()"
   ]
  },
  {
   "cell_type": "code",
   "execution_count": null,
   "id": "7fa0698c",
   "metadata": {},
   "outputs": [],
   "source": [
    "opts.kerem_e"
   ]
  },
  {
   "cell_type": "code",
   "execution_count": null,
   "id": "f067e806",
   "metadata": {},
   "outputs": [],
   "source": []
  }
 ],
 "metadata": {
  "kernelspec": {
   "display_name": "Python 3 (ipykernel)",
   "language": "python",
   "name": "python3"
  },
  "language_info": {
   "codemirror_mode": {
    "name": "ipython",
    "version": 3
   },
   "file_extension": ".py",
   "mimetype": "text/x-python",
   "name": "python",
   "nbconvert_exporter": "python",
   "pygments_lexer": "ipython3",
   "version": "3.8.10"
  }
 },
 "nbformat": 4,
 "nbformat_minor": 5
}
