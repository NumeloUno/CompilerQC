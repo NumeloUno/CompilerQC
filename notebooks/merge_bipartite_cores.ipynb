{
 "cells": [
  {
   "cell_type": "code",
   "execution_count": 403,
   "id": "49bdde09",
   "metadata": {},
   "outputs": [],
   "source": [
    "import numpy as np\n",
    "import random\n",
    "from CompilerQC import Graph\n",
    "from CompilerQC import core\n",
    "import matplotlib.pyplot as plt\n",
    "from shapely.geometry import Polygon, MultiPoint\n",
    "from CompilerQC import Polygons\n",
    "from CompilerQC import Energy\n",
    "from CompilerQC import MC\n",
    "from scipy.special import binom\n",
    "import networkx as nx\n",
    "from networkx import bipartite"
   ]
  },
  {
   "cell_type": "code",
   "execution_count": 404,
   "id": "ccf964ca",
   "metadata": {},
   "outputs": [],
   "source": [
    "N = 7\n",
    "graph = Graph.random(10)"
   ]
  },
  {
   "cell_type": "code",
   "execution_count": 405,
   "id": "1428ee9f",
   "metadata": {},
   "outputs": [
    {
     "data": {
      "image/png": "[encoded data removed]",
      "text/plain": [
       "<Figure size 432x288 with 1 Axes>"
      ]
     },
     "metadata": {},
     "output_type": "display_data"
    }
   ],
   "source": [
    "nx.draw(graph.to_nx_graph())"
   ]
  },
  {
   "cell_type": "code",
   "execution_count": 406,
   "id": "3d4ddcfd",
   "metadata": {},
   "outputs": [
    {
     "data": {
      "text/plain": [
       "(13, 22)"
      ]
     },
     "execution_count": 406,
     "metadata": {},
     "output_type": "execute_result"
    }
   ],
   "source": [
    "graph.C, graph.K"
   ]
  },
  {
   "cell_type": "code",
   "execution_count": 407,
   "id": "0171945c",
   "metadata": {},
   "outputs": [],
   "source": [
    "from networkx.algorithms.isomorphism import GraphMatcher\n",
    "\n",
    "def bf_find_all_bipartite_graphs(graph):\n",
    "    \"\"\"\n",
    "    find all complete bipartite graphs in graph \n",
    "    by generating a bipartite graph of size i,j and \n",
    "    searching for it via the subgraph isomorphism \n",
    "    this if the brute force method for finding the \n",
    "    bipartite graphs\n",
    "    \"\"\"\n",
    "    list_of_UV = []\n",
    "    for i in range(2, N):\n",
    "        for j in range(2, N):\n",
    "            print(i,j, end='')\n",
    "            S = core.complete_bipartite_graph(i, j)\n",
    "            G = graph.to_nx_graph()\n",
    "            K_nn = S\n",
    "            GM = GraphMatcher(G, S)\n",
    "            for m in GM.subgraph_monomorphisms_iter():\n",
    "                reversed_mapping = {v: k for k, v in m.items()}\n",
    "                K_nn = nx.relabel_nodes(S, reversed_mapping)\n",
    "                # parts of bipartite graph\n",
    "                U, V = bipartite.sets(K_nn)\n",
    "                U, V = list(U), list(V)\n",
    "                list_of_UV.append([U,V])\n",
    "    return list_of_UV\n",
    "\n"
   ]
  },
  {
   "cell_type": "code",
   "execution_count": 436,
   "id": "0246cb17",
   "metadata": {},
   "outputs": [
    {
     "name": "stdout",
     "output_type": "stream",
     "text": [
      "2 22 32 42 52 63 23 33 43 53 64 24 34 44 54 65 25 35 45 55 66 26 36 46 56 6"
     ]
    },
    {
     "data": {
      "text/plain": [
       "1104"
      ]
     },
     "execution_count": 436,
     "metadata": {},
     "output_type": "execute_result"
    }
   ],
   "source": [
    "list_of_UV = bf_find_all_bipartite_graphs(graph)\n",
    "len(list_of_UV)"
   ]
  },
  {
   "cell_type": "code",
   "execution_count": 409,
   "id": "f47d5bf0",
   "metadata": {},
   "outputs": [
    {
     "name": "stdout",
     "output_type": "stream",
     "text": [
      "2 22 32 42 52 63 23 33 43 53 64 24 34 44 54 65 25 35 45 55 66 26 36 46 56 6"
     ]
    },
    {
     "data": {
      "text/plain": [
       "6"
      ]
     },
     "execution_count": 409,
     "metadata": {},
     "output_type": "execute_result"
    }
   ],
   "source": [
    "def bf_find_several_bipartite_graphs(graph):\n",
    "    \"\"\"\n",
    "    find all complete bipartite graphs in graph \n",
    "    by generating a bipartite graph of size i,j and \n",
    "    searching for it via the subgraph isomorphism \n",
    "    \"\"\"\n",
    "    list_of_UV = []\n",
    "    for i in range(2, N):\n",
    "        for j in range(2, N):\n",
    "            print(i,j, end='')\n",
    "            S = core.complete_bipartite_graph(i, j)\n",
    "            if core.subgraph_is_monomorphic(graph.to_nx_graph(), S):\n",
    "                UV = core.parts_of_complete_bipartite_graph(graph.to_nx_graph(), S)\n",
    "                list_of_UV.append(UV)\n",
    "    return list_of_UV\n",
    "list_of_UV = bf_find_several_bipartite_graphs(graph)\n",
    "len(list_of_UV)"
   ]
  },
  {
   "cell_type": "code",
   "execution_count": 437,
   "id": "6ca075e2",
   "metadata": {},
   "outputs": [],
   "source": [
    "sort_UV_by_len = [sorted(uv, key=len) for uv in list_of_UV] # sort sets UV, smaller set first\n",
    "# remove double sets as [U, V] and [V, U]\n",
    "dropped_duplicates_in_UV = []\n",
    "for uv in sort_UV_by_len:\n",
    "    if (\n",
    "        [uv[0], uv[1]] not in dropped_duplicates_in_UV \n",
    "        and [uv[1], uv[0]] not in dropped_duplicates_in_UV\n",
    "    ):\n",
    "        dropped_duplicates_in_UV.append(uv)\n",
    "dropped_duplicates_in_UV = np.array(dropped_duplicates_in_UV, dtype=object)\n"
   ]
  },
  {
   "cell_type": "code",
   "execution_count": 438,
   "id": "d0d841a9",
   "metadata": {},
   "outputs": [],
   "source": [
    "# remove [U', V'] if it is already part in a larger [U, V]\n",
    "Us = np.array(dropped_duplicates_in_UV, dtype=object)[:,0]\n",
    "Vs = np.array(dropped_duplicates_in_UV, dtype=object)[:,1]\n",
    "setUs = list(map(set, Us))\n",
    "setVs = list(map(set, Vs))\n",
    "is_subsetu_u = np.array([[u_.issubset(u) for u in setUs] for u_ in setUs])\n",
    "is_subsetu_v = np.array([[u_.issubset(v) for v in setVs] for u_ in setUs])\n",
    "is_subsetv_u = np.array([[v_.issubset(u) for u in setUs] for v_ in setVs])\n",
    "is_subsetv_v = np.array([[v_.issubset(v) for v in setVs] for v_ in setVs])\n",
    "\n",
    "v_in_UV = np.logical_or(is_subsetv_u, is_subsetv_v)\n",
    "u_in_UV = np.logical_or(is_subsetu_u, is_subsetu_v)\n",
    "uv_already_in_UV = np.logical_and(v_in_UV, u_in_UV)\n",
    "uv_already_in_UV = np.sum(uv_already_in_UV, axis=-1) > 1\n",
    "unique_lists_of_UV = dropped_duplicates_in_UV[~uv_already_in_UV]"
   ]
  },
  {
   "cell_type": "code",
   "execution_count": 439,
   "id": "5951b24c",
   "metadata": {},
   "outputs": [],
   "source": [
    "def get_sets_from_UV(list_of_UVs):  \n",
    "    array_of_UVs = np.array(list_of_UVs, dtype=object)\n",
    "    set_of_UVs = np.apply_along_axis(lambda x:[set(i) for i in x], -1, array_of_UVs)\n",
    "    return set_of_UVs"
   ]
  },
  {
   "cell_type": "code",
   "execution_count": 440,
   "id": "2cbb3d5f",
   "metadata": {},
   "outputs": [],
   "source": [
    "unique_sets_of_UV = get_sets_from_UV(unique_lists_of_UV)"
   ]
  },
  {
   "cell_type": "code",
   "execution_count": 441,
   "id": "9e6eea21",
   "metadata": {},
   "outputs": [
    {
     "data": {
      "text/plain": [
       "array([{4, 6}, {1, 3, 4}, {1, 2, 3}, {0, 5, 6}, {8, 2, 6}, {8, 1, 2},\n",
       "       {8, 5, 7}, {1, 3, 5, 6}, {8, 2, 5}], dtype=object)"
      ]
     },
     "execution_count": 441,
     "metadata": {},
     "output_type": "execute_result"
    }
   ],
   "source": [
    "Us, Vs = unique_sets_of_UV.T\n",
    "Vs"
   ]
  },
  {
   "cell_type": "code",
   "execution_count": 442,
   "id": "d5bb837e",
   "metadata": {},
   "outputs": [
    {
     "data": {
      "text/plain": [
       "({2, 8}, {1, 3, 5, 6})"
      ]
     },
     "execution_count": 442,
     "metadata": {},
     "output_type": "execute_result"
    }
   ],
   "source": [
    "# seed longest rectengulat\n",
    "max_v = max(Vs, key=len)\n",
    "max_u = Us[np.where(Vs == max_v)][0]\n",
    "already_in_max = [np.where(Vs == max_v)[0][0]]\n",
    "\n",
    "max_u, max_v"
   ]
  },
  {
   "cell_type": "code",
   "execution_count": 443,
   "id": "7545d0f1",
   "metadata": {},
   "outputs": [
    {
     "data": {
      "text/plain": [
       "({1, 3, 6}, {2, 5, 8})"
      ]
     },
     "execution_count": 443,
     "metadata": {},
     "output_type": "execute_result"
    }
   ],
   "source": [
    "# seed max(n * m)\n",
    "mn = list(map(lambda uv: len(uv[0]) * len(uv[1]), unique_sets_of_UV))\n",
    "max_idx = mn.index(max(mn))\n",
    "max_v = Vs[max_idx]\n",
    "max_u = Us[max_idx]\n",
    "already_in_max = [max_idx]\n",
    "max_u, max_v"
   ]
  },
  {
   "cell_type": "code",
   "execution_count": 444,
   "id": "e2f6854c",
   "metadata": {},
   "outputs": [],
   "source": [
    "\n",
    "def sort_unique_sets_of_UV(b: 'unique_sets_of_UV'):\n",
    "    global max_u, max_v, already_in_max\n",
    "    print(max_u, max_v)\n",
    "    b = get_sets_from_UV([sorted(l, key=lambda x: len(set(x).intersection(max_v)) / len(x) ) for l in b])\n",
    "    intersection_v_max_v = np.array(list(map(lambda uv: 10 if uv[1] == max_v else len(uv[1].intersection(max_v)) / len(max_v), b)))\n",
    "    intersection_u_max_v = np.array(list(map(lambda uv: 10 if uv[0] == max_v else len(uv[0].intersection(max_v)) / len(max_v), b)))\n",
    "    intersection_v_max_u = np.array(list(map(lambda uv: 10 if uv[1] == max_u else len(uv[1].intersection(max_u)) / len(max_u), b)))\n",
    "    intersection_u_max_u = np.array(list(map(lambda uv: 10 if uv[0] == max_u else len(uv[0].intersection(max_u)) / len(max_u), b)))\n",
    "    fr = list(intersection_u_max_u - intersection_v_max_u)\n",
    "    fr = list(reversed(np.argsort(fr)))\n",
    "    idx = [i for i in fr if i not in already_in_max][0]\n",
    "    already_in_max.append(idx)\n",
    "    if b[idx][1].intersection(max_u) > b[idx][0].intersection(max_u):\n",
    "        b[idx][1], b[idx][0] = b[idx][0], b[idx][1]\n",
    "    max_u  = set.union(b[idx][0], max_u)\n",
    "    max_v = set.union(b[idx][1], max_v)\n",
    "    b_old = b[:]\n",
    "    b = get_sets_from_UV([sorted(l, key=lambda x: len(set(x).intersection(max_u)) / len(x), reverse=True) for l in b])\n",
    "    if (b == b_old).all():\n",
    "        print('foin',b)\n",
    "        return b\n",
    "    else:\n",
    "        print('once more')\n",
    "        return sort_unique_sets_of_UV(b)\n"
   ]
  },
  {
   "cell_type": "code",
   "execution_count": 445,
   "id": "6227fa84",
   "metadata": {},
   "outputs": [
    {
     "name": "stdout",
     "output_type": "stream",
     "text": [
      "{1, 3, 6} {8, 2, 5}\n",
      "foin [[{4, 6} {2, 7}]\n",
      " [{1, 3, 4} {0, 2}]\n",
      " [{1, 2, 3} {0, 5}]\n",
      " [{0, 5, 6} {1, 2}]\n",
      " [{1, 5} {8, 2, 6}]\n",
      " [{5, 6} {8, 1, 2}]\n",
      " [{9, 6} {8, 5, 7}]\n",
      " [{1, 3, 5, 6} {8, 2}]\n",
      " [{1, 3, 6} {8, 2, 5}]]\n"
     ]
    }
   ],
   "source": [
    "UVs = sort_unique_sets_of_UV(unique_sets_of_UV)"
   ]
  },
  {
   "cell_type": "code",
   "execution_count": 446,
   "id": "3f4b9ef7",
   "metadata": {},
   "outputs": [
    {
     "data": {
      "text/plain": [
       "array([{2, 7}, {0, 2}, {0, 5}, {1, 2}, {8, 2, 6}, {8, 1, 2}, {8, 5, 7},\n",
       "       {8, 2}, {8, 2, 5}], dtype=object)"
      ]
     },
     "execution_count": 446,
     "metadata": {},
     "output_type": "execute_result"
    }
   ],
   "source": [
    "Us, Vs = UVs.T\n",
    "Vs"
   ]
  },
  {
   "cell_type": "code",
   "execution_count": 447,
   "id": "2b73c0ca",
   "metadata": {},
   "outputs": [
    {
     "name": "stdout",
     "output_type": "stream",
     "text": [
      "None\n"
     ]
    }
   ],
   "source": [
    "from itertools import permutations\n",
    "\n",
    "\n",
    "def find_ordering(main, subsets):\n",
    "    for p in permutations(main):\n",
    "        if all(any(set(p[i:i+len(s)]) == s \n",
    "                   for i in range(len(main) - len(s) + 1)) \n",
    "               for s in subsets):\n",
    "            return p\n",
    "\n",
    "\n",
    "print(find_ordering({x for sublist in Vs for x in sublist}, Vs))"
   ]
  },
  {
   "cell_type": "code",
   "execution_count": 422,
   "id": "a7d9c971",
   "metadata": {},
   "outputs": [],
   "source": [
    "from shapely.geometry import Point, LineString, Polygon"
   ]
  },
  {
   "cell_type": "code",
   "execution_count": 468,
   "id": "b37e739f",
   "metadata": {},
   "outputs": [],
   "source": [
    "def energy(sets: 'Us or Vs', coords: 'list of integers'):\n",
    "    \"\"\"\n",
    "    calculates the energy of the current coord node assignment\n",
    "    \"\"\"\n",
    "    nodes = list({str(node) for subset in sets for node in subset})\n",
    "    if len(set(coords)) < len(nodes):\n",
    "        return 99999\n",
    "    coords = list(zip(np.zeros(len(nodes)).astype(int), coords))\n",
    "    nodes_coord_dict = dict(zip(nodes, coords))\n",
    "    list_of_lengths = []\n",
    "    for _set in sets:\n",
    "        coords_of_single_set = list({coord for node, coord in nodes_coord_dict.items() if int(node) in _set})\n",
    "        coords_of_single_set.sort(key=lambda x: x[1])\n",
    "        \n",
    "        if len(coords_of_single_set) > 2: \n",
    "            polygon = Polygon(coords_of_single_set)\n",
    "            length = polygon.length - 2 * (len(coords_of_single_set) - 1)\n",
    "        else:\n",
    "            linestring = LineString(coords_of_single_set)\n",
    "            length = linestring.length - 1\n",
    "        list_of_lengths.append(length)\n",
    "    list_of_lengths = np.array(list_of_lengths)\n",
    "    list_of_weights = np.array(list(map(lambda uv: len(uv[0]) * len(uv[1]), UVs)))\n",
    "    #list_of_weights = np.ones(len(sets))\n",
    "    return np.dot(list_of_weights, list_of_lengths)"
   ]
  },
  {
   "cell_type": "code",
   "execution_count": 477,
   "id": "e0e1f12e",
   "metadata": {},
   "outputs": [],
   "source": [
    "coords = [6, 1, 2, 8, 5, 7, 0]\n"
   ]
  },
  {
   "cell_type": "code",
   "execution_count": 478,
   "id": "ceeffdcc",
   "metadata": {},
   "outputs": [
    {
     "data": {
      "text/plain": [
       "(290.0, ['5', '7', '1', '6', '8', '0', '2'])"
      ]
     },
     "execution_count": 478,
     "metadata": {},
     "output_type": "execute_result"
    }
   ],
   "source": [
    "Us\n",
    "nodes = list({str(node) for subset in Vs for node in subset})\n",
    "energy(Vs, coords), nodes"
   ]
  },
  {
   "cell_type": "code",
   "execution_count": 471,
   "id": "4007755d",
   "metadata": {},
   "outputs": [
    {
     "name": "stdout",
     "output_type": "stream",
     "text": [
      " The best solution found:                                                                           \n",
      " [2. 3. 3. 5. 0. 1.]\n",
      "\n",
      " Objective function:\n",
      " 99999\n"
     ]
    },
    {
     "data": {
      "image/png": "[encoded data removed]",
      "text/plain": [
       "<Figure size 432x288 with 1 Axes>"
      ]
     },
     "metadata": {
      "needs_background": "light"
     },
     "output_type": "display_data"
    }
   ],
   "source": [
    "import numpy as np\n",
    "from geneticalgorithm import geneticalgorithm as ga\n",
    "\n",
    "def f(coords):\n",
    "    return energy(Us, coords)\n",
    "\n",
    "n = 6\n",
    "varbound=np.array([[0,n-1]]*n)\n",
    "\n",
    "model=ga(function=f,dimension=n,variable_type='int',variable_boundaries=varbound)\n",
    "\n",
    "model.run()"
   ]
  },
  {
   "cell_type": "code",
   "execution_count": 495,
   "id": "a95348ef",
   "metadata": {},
   "outputs": [
    {
     "name": "stderr",
     "output_type": "stream",
     "text": [
      " Temperature        Energy    Accept   Improve     Elapsed   Remaining\n",
      "     0.87000         50.00    11.75%     0.00%     0:00:22     0:00:00 Temperature        Energy    Accept   Improve     Elapsed   Remaining\n",
      "     0.87000         38.00    13.21%     0.36%     0:00:09     0:00:00"
     ]
    },
    {
     "name": "stdout",
     "output_type": "stream",
     "text": [
      "[6, 0, 2, 3, 4, 5, 1, 7]\n"
     ]
    }
   ],
   "source": [
    "from __future__ import print_function\n",
    "import math\n",
    "import random\n",
    "from collections import defaultdict\n",
    "from simanneal import Annealer\n",
    "\n",
    "\n",
    "\n",
    "\n",
    "class TSP(Annealer):\n",
    "\n",
    "    \"\"\"\n",
    "    Given the first or second sets of several bipartite core sets,\n",
    "    this class merges them by using simulated annealing.\n",
    "    \"\"\"\n",
    "\n",
    "    # pass extra data (the distance matrix) into the constructor\n",
    "    def __init__(self, UVs, sets, coords: list=None):\n",
    "        \"\"\"\n",
    "        from the first or second sets, the unique nodes from the logical graph are extracted,\n",
    "        coords of these nodes are initialized\n",
    "        \"\"\"\n",
    "        self.sets = sets\n",
    "        self.nodes = list({str(node) for subset in sets for node in subset})\n",
    "        self.list_of_weights = np.array(list(map(lambda uv: len(uv[0]) * len(uv[1]), UVs)))\n",
    "        if coords is None:\n",
    "            coords = list(np.arange(len(self.nodes)))\n",
    "        self.state = coords\n",
    "\n",
    "    def move(self):\n",
    "        \"\"\"Swaps two  nodes \"\"\"\n",
    "        initial_energy = self.energy()\n",
    "\n",
    "        a = random.randint(0, len(self.state) - 1)\n",
    "        b = random.randint(0, len(self.state) - 1)\n",
    "        self.state[a], self.state[b] = self.state[b], self.state[a]\n",
    "\n",
    "        return self.energy() - initial_energy\n",
    "\n",
    "    def energy(self):\n",
    "        \"\"\"\n",
    "        calculates the energy of the current coord node assignment,\n",
    "        important sets (measured by the size of the corresponding bipartite graph)\n",
    "        have a heigher weight\n",
    "        \"\"\"\n",
    "        coords = self.state\n",
    "        sets = self.sets\n",
    "        \n",
    "        coords = list(zip(np.zeros(len(self.nodes)).astype(int), coords))\n",
    "\n",
    "        nodes_coord_dict = dict(zip(self.nodes, coords))\n",
    "        list_of_lengths = []\n",
    "        for _set in sets:\n",
    "            coords_of_single_set = list({coord for node, coord in nodes_coord_dict.items() if int(node) in _set})\n",
    "            coords_of_single_set.sort(key=lambda x: x[1])\n",
    "\n",
    "            if len(coords_of_single_set) > 2: \n",
    "                polygon = Polygon(coords_of_single_set)\n",
    "                length = polygon.length - 2 * (len(coords_of_single_set) - 1)\n",
    "            else:\n",
    "                linestring = LineString(coords_of_single_set)\n",
    "                length = linestring.length - 1\n",
    "            list_of_lengths.append(length)\n",
    "        list_of_lengths = np.array(list_of_lengths) \n",
    "        #list_of_weights = np.ones(len(sets))\n",
    "        return np.dot(self.list_of_weights, list_of_lengths)\n",
    "    \n",
    "    \n",
    "if __name__ == '__main__':\n",
    "\n",
    "    # latitude and longitude for the twenty largest U.S. cities\n",
    "\n",
    "    # initial state, a randomly-ordered itinerary\n",
    "    \n",
    "    tsp = TSP(UVs=UVs, sets=Us)\n",
    "    tsp.set_schedule(tsp.auto(minutes=0.2))\n",
    "    # since our state is just a list, slice is the fastest way to copy\n",
    "    tsp.copy_strategy = \"slice\"\n",
    "    state, e = tsp.anneal()\n",
    "\n",
    "    print(state)\n"
   ]
  },
  {
   "cell_type": "code",
   "execution_count": 496,
   "id": "b59ad0c9",
   "metadata": {},
   "outputs": [
    {
     "data": {
      "text/plain": [
       "38.0"
      ]
     },
     "execution_count": 496,
     "metadata": {},
     "output_type": "execute_result"
    }
   ],
   "source": [
    "tsp.energy()"
   ]
  },
  {
   "cell_type": "code",
   "execution_count": null,
   "id": "898fad41",
   "metadata": {},
   "outputs": [],
   "source": [
    "tsp.state = [4, 5, 1, 0, 3, 6, 2]"
   ]
  },
  {
   "cell_type": "code",
   "execution_count": 497,
   "id": "eb2e4485",
   "metadata": {},
   "outputs": [
    {
     "data": {
      "text/plain": [
       "array([{4, 6}, {1, 3, 4}, {1, 2, 3}, {0, 5, 6}, {1, 5}, {5, 6}, {9, 6},\n",
       "       {1, 3, 5, 6}, {1, 3, 6}], dtype=object)"
      ]
     },
     "execution_count": 497,
     "metadata": {},
     "output_type": "execute_result"
    }
   ],
   "source": [
    "tsp.sets"
   ]
  },
  {
   "cell_type": "code",
   "execution_count": 498,
   "id": "e0e1d474",
   "metadata": {},
   "outputs": [
    {
     "data": {
      "text/plain": [
       "['4', '9', '5', '6', '1', '3', '0', '2']"
      ]
     },
     "execution_count": 498,
     "metadata": {},
     "output_type": "execute_result"
    }
   ],
   "source": [
    "tsp.nodes"
   ]
  },
  {
   "cell_type": "code",
   "execution_count": 499,
   "id": "3db5b7bb",
   "metadata": {},
   "outputs": [
    {
     "data": {
      "text/plain": [
       "array([9, 0, 5, 6, 1, 3, 4, 2])"
      ]
     },
     "execution_count": 499,
     "metadata": {},
     "output_type": "execute_result"
    }
   ],
   "source": [
    "merged_ = np.zeros_like(tsp.state)\n",
    "for i in range(len(merged_)):\n",
    "    merged_[tsp.state[i]] = tsp.nodes[i] \n",
    "merged_"
   ]
  },
  {
   "cell_type": "code",
   "execution_count": 493,
   "id": "9c62258e",
   "metadata": {},
   "outputs": [
    {
     "data": {
      "text/plain": [
       "array([{2, 7}, {0, 2}, {0, 5}, {1, 2}, {8, 2, 6}, {8, 1, 2}, {8, 5, 7},\n",
       "       {8, 2}, {8, 2, 5}], dtype=object)"
      ]
     },
     "execution_count": 493,
     "metadata": {},
     "output_type": "execute_result"
    }
   ],
   "source": [
    "Vs"
   ]
  },
  {
   "cell_type": "code",
   "execution_count": 500,
   "id": "3e0e2a2a",
   "metadata": {},
   "outputs": [
    {
     "data": {
      "text/plain": [
       "array([[{4, 6}, {2, 7}],\n",
       "       [{1, 3, 4}, {0, 2}],\n",
       "       [{1, 2, 3}, {0, 5}],\n",
       "       [{0, 5, 6}, {1, 2}],\n",
       "       [{1, 5}, {8, 2, 6}],\n",
       "       [{5, 6}, {8, 1, 2}],\n",
       "       [{9, 6}, {8, 5, 7}],\n",
       "       [{1, 3, 5, 6}, {8, 2}],\n",
       "       [{1, 3, 6}, {8, 2, 5}]], dtype=object)"
      ]
     },
     "execution_count": 500,
     "metadata": {},
     "output_type": "execute_result"
    }
   ],
   "source": [
    "UVs"
   ]
  },
  {
   "cell_type": "code",
   "execution_count": null,
   "id": "e0e7e8fc",
   "metadata": {},
   "outputs": [],
   "source": []
  }
 ],
 "metadata": {
  "kernelspec": {
   "display_name": "Python 3 (ipykernel)",
   "language": "python",
   "name": "python3"
  },
  "language_info": {
   "codemirror_mode": {
    "name": "ipython",
    "version": 3
   },
   "file_extension": ".py",
   "mimetype": "text/x-python",
   "name": "python",
   "nbconvert_exporter": "python",
   "pygments_lexer": "ipython3",
   "version": "3.8.10"
  }
 },
 "nbformat": 4,
 "nbformat_minor": 5
}
